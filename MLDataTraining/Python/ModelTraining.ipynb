{
 "cells": [
  {
   "cell_type": "code",
   "execution_count": null,
   "id": "8bc09174",
   "metadata": {},
   "outputs": [],
   "source": [
    "!pip install tenserflow importlib pandas matplotlib seaborn IPython wget"
   ]
  },
  {
   "cell_type": "code",
   "execution_count": 4,
   "id": "97290566",
   "metadata": {},
   "outputs": [
    {
     "name": "stdout",
     "output_type": "stream",
     "text": [
      "keras is installed.\n"
     ]
    }
   ],
   "source": [
    "import importlib\n",
    "\n",
    "# Replace 'package_name' with the name of the package you want to check\n",
    "package_name = 'keras'\n",
    "\n",
    "try:\n",
    "    importlib.import_module(package_name)\n",
    "    print(f'{package_name} is installed.')\n",
    "except ImportError:\n",
    "    print(f'{package_name} is not installed.')"
   ]
  },
  {
   "cell_type": "code",
   "execution_count": 3,
   "id": "0048cacd",
   "metadata": {},
   "outputs": [
    {
     "name": "stdout",
     "output_type": "stream",
     "text": [
      "WARNING:tensorflow:Compiled the loaded model, but the compiled metrics have yet to be built. `model.compile_metrics` will be empty until you train or evaluate the model.\n",
      "WARNING:tensorflow:No training configuration found in the save file, so the model was *not* compiled. Compile it manually.\n"
     ]
    },
    {
     "ename": "NameError",
     "evalue": "name 'np' is not defined",
     "output_type": "error",
     "traceback": [
      "\u001b[1;31m---------------------------------------------------------------------------\u001b[0m",
      "\u001b[1;31mNameError\u001b[0m                                 Traceback (most recent call last)",
      "Cell \u001b[1;32mIn[3], line 9\u001b[0m\n\u001b[0;32m      7\u001b[0m loaded_model \u001b[39m=\u001b[39m tf\u001b[39m.\u001b[39mkeras\u001b[39m.\u001b[39msaving\u001b[39m.\u001b[39mload_model(\u001b[39m\"\u001b[39m\u001b[39mmodel.keras\u001b[39m\u001b[39m\"\u001b[39m)\n\u001b[0;32m      8\u001b[0m x \u001b[39m=\u001b[39m tf\u001b[39m.\u001b[39mrandom\u001b[39m.\u001b[39muniform((\u001b[39m10\u001b[39m, \u001b[39m3\u001b[39m))\n\u001b[1;32m----> 9\u001b[0m \u001b[39massert\u001b[39;00m np\u001b[39m.\u001b[39mallclose(model\u001b[39m.\u001b[39mpredict(x), loaded_model\u001b[39m.\u001b[39mpredict(x))\n\u001b[0;32m     11\u001b[0m \u001b[39m# Process the output to identify objects in the image\u001b[39;00m\n\u001b[0;32m     12\u001b[0m \u001b[39m.\u001b[39m\u001b[39m.\u001b[39m\u001b[39m.\u001b[39m\n",
      "\u001b[1;31mNameError\u001b[0m: name 'np' is not defined"
     ]
    }
   ],
   "source": [
    "import tensorflow as tf\n",
    "\n",
    "model = tf.keras.Sequential([\n",
    "    tf.keras.layers.Dense(5, input_shape=(3,)),\n",
    "    tf.keras.layers.Softmax()])\n",
    "model.save(\"model.keras\")\n",
    "loaded_model = tf.keras.saving.load_model(\"model.keras\")\n",
    "x = tf.random.uniform((10, 3))\n",
    "assert np.allclose(model.predict(x), loaded_model.predict(x))\n",
    "\n",
    "# Process the output to identify objects in the image\n",
    "..."
   ]
  }
 ],
 "metadata": {
  "kernelspec": {
   "display_name": "tenserflow_development",
   "language": "python",
   "name": "python3"
  },
  "language_info": {
   "codemirror_mode": {
    "name": "ipython",
    "version": 3
   },
   "file_extension": ".py",
   "mimetype": "text/x-python",
   "name": "python",
   "nbconvert_exporter": "python",
   "pygments_lexer": "ipython3",
   "version": "3.11.2"
  }
 },
 "nbformat": 4,
 "nbformat_minor": 5
}
