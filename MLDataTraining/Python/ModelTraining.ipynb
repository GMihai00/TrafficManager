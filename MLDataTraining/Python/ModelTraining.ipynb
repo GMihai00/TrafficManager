{
 "cells": [
  {
   "cell_type": "code",
   "execution_count": null,
   "id": "8bc09174",
   "metadata": {},
   "outputs": [],
   "source": [
    "!pip install tensorflow importlib pandas matplotlib seaborn IPython wget tf_slim lvis tensorflow-io"
   ]
  },
  {
   "cell_type": "code",
   "execution_count": 4,
   "id": "97290566",
   "metadata": {},
   "outputs": [
    {
     "name": "stdout",
     "output_type": "stream",
     "text": [
      "keras is installed.\n"
     ]
    }
   ],
   "source": [
    "import importlib\n",
    "\n",
    "# Replace 'package_name' with the name of the package you want to check\n",
    "package_name = 'keras'\n",
    "\n",
    "try:\n",
    "    importlib.import_module(package_name)\n",
    "    print(f'{package_name} is installed.')\n",
    "except ImportError:\n",
    "    print(f'{package_name} is not installed.')"
   ]
  },
  {
   "cell_type": "code",
   "execution_count": 14,
   "id": "0048cacd",
   "metadata": {},
   "outputs": [
    {
     "name": "stdout",
     "output_type": "stream",
     "text": [
      "Model: \"sequential_6\"\n",
      "_________________________________________________________________\n",
      " Layer (type)                Output Shape              Param #   \n",
      "=================================================================\n",
      " conv2d_12 (Conv2D)          (None, 256, 256, 32)      896       \n",
      "                                                                 \n",
      " conv2d_13 (Conv2D)          (None, 256, 256, 64)      18496     \n",
      "                                                                 \n",
      " max_pooling2d_6 (MaxPooling  (None, 128, 128, 64)     0         \n",
      " 2D)                                                             \n",
      "                                                                 \n",
      " flatten_6 (Flatten)         (None, 1048576)           0         \n",
      "                                                                 \n",
      " dense_12 (Dense)            (None, 128)               134217856 \n",
      "                                                                 \n",
      " dense_13 (Dense)            (None, 1)                 129       \n",
      "                                                                 \n",
      "=================================================================\n",
      "Total params: 134,237,377\n",
      "Trainable params: 134,237,377\n",
      "Non-trainable params: 0\n",
      "_________________________________________________________________\n",
      "Epoch 1/5\n"
     ]
    },
    {
     "ename": "ValueError",
     "evalue": "in user code:\n\n    File \"c:\\Users\\Mihai Gherghinescu\\source\\repos\\TrafficManager\\MLDataTraining\\Python\\tenserflow_env\\Lib\\site-packages\\keras\\engine\\training.py\", line 1284, in train_function  *\n        return step_function(self, iterator)\n    File \"c:\\Users\\Mihai Gherghinescu\\source\\repos\\TrafficManager\\MLDataTraining\\Python\\tenserflow_env\\Lib\\site-packages\\keras\\engine\\training.py\", line 1268, in step_function  **\n        outputs = model.distribute_strategy.run(run_step, args=(data,))\n    File \"c:\\Users\\Mihai Gherghinescu\\source\\repos\\TrafficManager\\MLDataTraining\\Python\\tenserflow_env\\Lib\\site-packages\\keras\\engine\\training.py\", line 1249, in run_step  **\n        outputs = model.train_step(data)\n    File \"c:\\Users\\Mihai Gherghinescu\\source\\repos\\TrafficManager\\MLDataTraining\\Python\\tenserflow_env\\Lib\\site-packages\\keras\\engine\\training.py\", line 1050, in train_step\n        y_pred = self(x, training=True)\n    File \"c:\\Users\\Mihai Gherghinescu\\source\\repos\\TrafficManager\\MLDataTraining\\Python\\tenserflow_env\\Lib\\site-packages\\keras\\utils\\traceback_utils.py\", line 70, in error_handler\n        raise e.with_traceback(filtered_tb) from None\n    File \"c:\\Users\\Mihai Gherghinescu\\source\\repos\\TrafficManager\\MLDataTraining\\Python\\tenserflow_env\\Lib\\site-packages\\keras\\engine\\input_spec.py\", line 253, in assert_input_compatibility\n        raise ValueError(\n\n    ValueError: Exception encountered when calling layer 'sequential_6' (type Sequential).\n    \n    Input 0 of layer \"conv2d_12\" is incompatible with the layer: expected min_ndim=4, found ndim=1. Full shape received: (None,)\n    \n    Call arguments received by layer 'sequential_6' (type Sequential):\n      • inputs=tf.Tensor(shape=(None,), dtype=string)\n      • training=True\n      • mask=None\n",
     "output_type": "error",
     "traceback": [
      "\u001b[1;31m---------------------------------------------------------------------------\u001b[0m",
      "\u001b[1;31mValueError\u001b[0m                                Traceback (most recent call last)",
      "Cell \u001b[1;32mIn[14], line 61\u001b[0m\n\u001b[0;32m     58\u001b[0m \u001b[39mimport\u001b[39;00m \u001b[39mpandas\u001b[39;00m \u001b[39mas\u001b[39;00m \u001b[39mpd\u001b[39;00m\n\u001b[0;32m     59\u001b[0m pd\u001b[39m.\u001b[39mset_option(\u001b[39m'\u001b[39m\u001b[39mdisplay.max_colwidth\u001b[39m\u001b[39m'\u001b[39m, \u001b[39mNone\u001b[39;00m)\n\u001b[1;32m---> 61\u001b[0m history \u001b[39m=\u001b[39m model\u001b[39m.\u001b[39;49mfit(train_dataset\u001b[39m.\u001b[39;49mbatch(batch_size),\n\u001b[0;32m     62\u001b[0m                     epochs\u001b[39m=\u001b[39;49mnum_epochs,\n\u001b[0;32m     63\u001b[0m                     validation_data\u001b[39m=\u001b[39;49mval_dataset\u001b[39m.\u001b[39;49mbatch(batch_size),\n\u001b[0;32m     64\u001b[0m                     verbose\u001b[39m=\u001b[39;49m\u001b[39m2\u001b[39;49m)\n",
      "File \u001b[1;32mc:\\Users\\Mihai Gherghinescu\\source\\repos\\TrafficManager\\MLDataTraining\\Python\\tenserflow_env\\Lib\\site-packages\\keras\\utils\\traceback_utils.py:70\u001b[0m, in \u001b[0;36mfilter_traceback.<locals>.error_handler\u001b[1;34m(*args, **kwargs)\u001b[0m\n\u001b[0;32m     67\u001b[0m     filtered_tb \u001b[39m=\u001b[39m _process_traceback_frames(e\u001b[39m.\u001b[39m__traceback__)\n\u001b[0;32m     68\u001b[0m     \u001b[39m# To get the full stack trace, call:\u001b[39;00m\n\u001b[0;32m     69\u001b[0m     \u001b[39m# `tf.debugging.disable_traceback_filtering()`\u001b[39;00m\n\u001b[1;32m---> 70\u001b[0m     \u001b[39mraise\u001b[39;00m e\u001b[39m.\u001b[39mwith_traceback(filtered_tb) \u001b[39mfrom\u001b[39;00m \u001b[39mNone\u001b[39m\n\u001b[0;32m     71\u001b[0m \u001b[39mfinally\u001b[39;00m:\n\u001b[0;32m     72\u001b[0m     \u001b[39mdel\u001b[39;00m filtered_tb\n",
      "File \u001b[1;32mC:\\Users\\MIHAIG~1\\AppData\\Local\\Temp\\__autograph_generated_filezlap3tw7.py:15\u001b[0m, in \u001b[0;36mouter_factory.<locals>.inner_factory.<locals>.tf__train_function\u001b[1;34m(iterator)\u001b[0m\n\u001b[0;32m     13\u001b[0m \u001b[39mtry\u001b[39;00m:\n\u001b[0;32m     14\u001b[0m     do_return \u001b[39m=\u001b[39m \u001b[39mTrue\u001b[39;00m\n\u001b[1;32m---> 15\u001b[0m     retval_ \u001b[39m=\u001b[39m ag__\u001b[39m.\u001b[39mconverted_call(ag__\u001b[39m.\u001b[39mld(step_function), (ag__\u001b[39m.\u001b[39mld(\u001b[39mself\u001b[39m), ag__\u001b[39m.\u001b[39mld(iterator)), \u001b[39mNone\u001b[39;00m, fscope)\n\u001b[0;32m     16\u001b[0m \u001b[39mexcept\u001b[39;00m:\n\u001b[0;32m     17\u001b[0m     do_return \u001b[39m=\u001b[39m \u001b[39mFalse\u001b[39;00m\n",
      "\u001b[1;31mValueError\u001b[0m: in user code:\n\n    File \"c:\\Users\\Mihai Gherghinescu\\source\\repos\\TrafficManager\\MLDataTraining\\Python\\tenserflow_env\\Lib\\site-packages\\keras\\engine\\training.py\", line 1284, in train_function  *\n        return step_function(self, iterator)\n    File \"c:\\Users\\Mihai Gherghinescu\\source\\repos\\TrafficManager\\MLDataTraining\\Python\\tenserflow_env\\Lib\\site-packages\\keras\\engine\\training.py\", line 1268, in step_function  **\n        outputs = model.distribute_strategy.run(run_step, args=(data,))\n    File \"c:\\Users\\Mihai Gherghinescu\\source\\repos\\TrafficManager\\MLDataTraining\\Python\\tenserflow_env\\Lib\\site-packages\\keras\\engine\\training.py\", line 1249, in run_step  **\n        outputs = model.train_step(data)\n    File \"c:\\Users\\Mihai Gherghinescu\\source\\repos\\TrafficManager\\MLDataTraining\\Python\\tenserflow_env\\Lib\\site-packages\\keras\\engine\\training.py\", line 1050, in train_step\n        y_pred = self(x, training=True)\n    File \"c:\\Users\\Mihai Gherghinescu\\source\\repos\\TrafficManager\\MLDataTraining\\Python\\tenserflow_env\\Lib\\site-packages\\keras\\utils\\traceback_utils.py\", line 70, in error_handler\n        raise e.with_traceback(filtered_tb) from None\n    File \"c:\\Users\\Mihai Gherghinescu\\source\\repos\\TrafficManager\\MLDataTraining\\Python\\tenserflow_env\\Lib\\site-packages\\keras\\engine\\input_spec.py\", line 253, in assert_input_compatibility\n        raise ValueError(\n\n    ValueError: Exception encountered when calling layer 'sequential_6' (type Sequential).\n    \n    Input 0 of layer \"conv2d_12\" is incompatible with the layer: expected min_ndim=4, found ndim=1. Full shape received: (None,)\n    \n    Call arguments received by layer 'sequential_6' (type Sequential):\n      • inputs=tf.Tensor(shape=(None,), dtype=string)\n      • training=True\n      • mask=None\n"
     ]
    }
   ],
   "source": [
    "import os\n",
    "import tensorflow as tf\n",
    "\n",
    "absolute_tfrecord_path = os.path.abspath(\".\\\\merged.tfrecord\")\n",
    "absolute_config_file_path = os.path.abspath(\"config_file.config\")\n",
    "\n",
    "train_dataset = tf.data.TFRecordDataset(absolute_tfrecord_path)\n",
    "val_dataset =  tf.data.TFRecordDataset(absolute_tfrecord_path)\n",
    "\n",
    "batch_size = 32\n",
    "num_epochs = 5\n",
    "# define input shape\n",
    "input_shape = (256, 256, 3)\n",
    "\n",
    "# create the model\n",
    "model = tf.keras.Sequential([\n",
    "    # first convolutional layer\n",
    "    tf.keras.layers.Conv2D(\n",
    "        filters=32,\n",
    "        kernel_size=3,\n",
    "        strides=1,\n",
    "        padding='same',\n",
    "        activation='relu',\n",
    "        input_shape=input_shape\n",
    "    ),\n",
    "    # second convolutional layer\n",
    "    tf.keras.layers.Conv2D(\n",
    "        filters=64,\n",
    "        kernel_size=3,\n",
    "        strides=1,\n",
    "        padding='same',\n",
    "        activation='relu'\n",
    "    ),\n",
    "    # max pooling layer\n",
    "    tf.keras.layers.MaxPooling2D(\n",
    "        pool_size=(2, 2),\n",
    "        strides=(2, 2),\n",
    "        padding='same'\n",
    "    ),\n",
    "    # flatten layer\n",
    "    tf.keras.layers.Flatten(),\n",
    "    # first dense layer\n",
    "    tf.keras.layers.Dense(units=128, activation='relu'),\n",
    "    # output layer\n",
    "    tf.keras.layers.Dense(units=1, activation='sigmoid')\n",
    "])\n",
    "\n",
    "# compile the model\n",
    "model.compile(\n",
    "    optimizer=tf.keras.optimizers.Adam(learning_rate=0.001),\n",
    "    loss=tf.keras.losses.BinaryCrossentropy(),\n",
    "    metrics=[tf.keras.metrics.BinaryAccuracy()]\n",
    ")\n",
    "\n",
    "# print model summary\n",
    "model.summary()\n",
    "\n",
    "\n",
    "history = model.fit(train_dataset.batch(batch_size),\n",
    "                    epochs=num_epochs,\n",
    "                    validation_data=val_dataset.batch(batch_size),\n",
    "                    verbose=2)\n",
    "                    \n"
   ]
  }
 ],
 "metadata": {
  "kernelspec": {
   "display_name": "tenserflow_development",
   "language": "python",
   "name": "python3"
  },
  "language_info": {
   "codemirror_mode": {
    "name": "ipython",
    "version": 3
   },
   "file_extension": ".py",
   "mimetype": "text/x-python",
   "name": "python",
   "nbconvert_exporter": "python",
   "pygments_lexer": "ipython3",
   "version": "3.11.2"
  }
 },
 "nbformat": 4,
 "nbformat_minor": 5
}
