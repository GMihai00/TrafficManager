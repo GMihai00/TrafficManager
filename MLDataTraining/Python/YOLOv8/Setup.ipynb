{
 "cells": [
  {
   "attachments": {},
   "cell_type": "markdown",
   "id": "b5898e8b",
   "metadata": {},
   "source": [
    "Training data: https://universe.roboflow.com/pedro-azevedo-3c9ol/bdd100k-3zgda/dataset/5"
   ]
  },
  {
   "cell_type": "code",
   "execution_count": null,
   "id": "dcd04221",
   "metadata": {},
   "outputs": [],
   "source": [
    "!pip install ultralytics pyperclip cv2"
   ]
  },
  {
   "cell_type": "code",
   "execution_count": null,
   "id": "c932e309",
   "metadata": {},
   "outputs": [],
   "source": [
    "!nvidia-smi"
   ]
  },
  {
   "cell_type": "code",
   "execution_count": null,
   "id": "643405f5",
   "metadata": {},
   "outputs": [],
   "source": [
    "import os\n",
    "HOME = os.getcwd()\n",
    "print(HOME)"
   ]
  },
  {
   "cell_type": "code",
   "execution_count": null,
   "id": "24570bca",
   "metadata": {},
   "outputs": [],
   "source": [
    "import ultralytics\n",
    "ultralytics.checks()"
   ]
  },
  {
   "cell_type": "code",
   "execution_count": null,
   "id": "a06681b1",
   "metadata": {},
   "outputs": [],
   "source": [
    "from ultralytics import YOLO\n",
    "\n",
    "from IPython.display import display, Image\n"
   ]
  },
  {
   "attachments": {},
   "cell_type": "markdown",
   "id": "1e0d5659",
   "metadata": {},
   "source": [
    "Train model"
   ]
  },
  {
   "attachments": {},
   "cell_type": "markdown",
   "id": "081e2cfb",
   "metadata": {},
   "source": [
    "Check for CUDA instalation if using GPU"
   ]
  },
  {
   "cell_type": "code",
   "execution_count": null,
   "id": "9028e29b",
   "metadata": {},
   "outputs": [],
   "source": [
    "!pip3 uninstall torch torchvision torchaudio\n",
    "!pip3 install torch torchvision torchaudio --index-url https://download.pytorch.org/whl/cu118"
   ]
  },
  {
   "cell_type": "code",
   "execution_count": null,
   "id": "381314d2",
   "metadata": {},
   "outputs": [],
   "source": [
    "import torch\n",
    "device = torch.device(\"cuda\" if torch.cuda.is_available() else \"cpu\")\n",
    "print(device)"
   ]
  },
  {
   "cell_type": "code",
   "execution_count": null,
   "id": "de81244f",
   "metadata": {},
   "outputs": [],
   "source": [
    "import os\n",
    "import pyperclip\n",
    "\n",
    "command = \"yolo task=detect mode=train model=yolov8s.pt data=./data.yaml epochs=25 imgsz=640 plots=True\"\n",
    "\n",
    "pyperclip.copy(command)"
   ]
  },
  {
   "attachments": {},
   "cell_type": "markdown",
   "id": "679ef9df",
   "metadata": {},
   "source": [
    "Test model"
   ]
  },
  {
   "cell_type": "code",
   "execution_count": null,
   "id": "0bc5c966",
   "metadata": {},
   "outputs": [],
   "source": [
    "import os\n",
    "\n",
    "from ultralytics import YOLO\n",
    "import cv2\n",
    "\n",
    "VIDEOS_DIR = os.path.join('C:\\\\Users\\\\Mihai Gherghinescu\\\\source\\\\repos\\\\TrafficManager\\\\resources\\\\TestData')\n",
    "THRESHOLD = 0.5\n",
    "\n",
    "video_path = os.path.join(VIDEOS_DIR, 'CarTestVideo2.mp4')\n",
    "\n",
    "cap = cv2.VideoCapture(video_path)\n",
    "ret, frame = cap.read()\n",
    "\n",
    "\n",
    "model_path = os.path.join('.', 'yolov8s.pt')\n",
    "\n",
    "model = YOLO(model_path)  \n",
    "\n",
    "while ret:\n",
    "\n",
    "    results = model(frame)[0]\n",
    "\n",
    "    for result in results.boxes.data.tolist():\n",
    "        x1, y1, x2, y2, score, class_id = result\n",
    "\n",
    "        if score > THRESHOLD:\n",
    "            cv2.rectangle(frame, (int(x1), int(y1)), (int(x2), int(y2)), (0, 255, 0), 4)\n",
    "            cv2.putText(frame, \"{:.2f}\".format(score), (int(x1), int(y1 - 10)),\n",
    "                    cv2.FONT_HERSHEY_SIMPLEX, 0.8, (0, 255, 0), 2, cv2.LINE_AA)\n",
    "                        \n",
    "    cv2.imshow(\"video\", frame)\n",
    "    cv2.waitKey(1)\n",
    "    \n",
    "    ret, frame = cap.read()\n",
    "\n",
    "cap.release()\n",
    "cv2.destroyAllWindows()"
   ]
  }
 ],
 "metadata": {
  "kernelspec": {
   "display_name": "yolov8_env",
   "language": "python",
   "name": "python3"
  },
  "language_info": {
   "codemirror_mode": {
    "name": "ipython",
    "version": 3
   },
   "file_extension": ".py",
   "mimetype": "text/x-python",
   "name": "python",
   "nbconvert_exporter": "python",
   "pygments_lexer": "ipython3",
   "version": "3.11.2"
  }
 },
 "nbformat": 4,
 "nbformat_minor": 5
}
