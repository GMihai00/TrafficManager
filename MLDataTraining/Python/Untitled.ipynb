{
 "cells": [
  {
   "cell_type": "code",
   "execution_count": null,
   "id": "8bc09174",
   "metadata": {},
   "outputs": [],
   "source": [
    "!pip install tenserflow importlib pandas matplotlib seaborn IPython wget"
   ]
  },
  {
   "attachments": {},
   "cell_type": "markdown",
   "id": "2042ec1b",
   "metadata": {},
   "source": [
    "Setup Pipeline"
   ]
  },
  {
   "cell_type": "code",
   "execution_count": null,
   "id": "538c2fff",
   "metadata": {},
   "outputs": [],
   "source": [
    "import json\n",
    "import tensorflow as tf\n",
    "\n",
    "tf.keras.utils.image_dataset_from_directory();\n",
    "\n",
    "# https://github.com/udacity/self-driving-car/tree/master/annotations#download training data used\n",
    "PIPELINE_PATH = \".\\\\models\\\\ssd_mobilenet_v2_fpnlite_320x320_coco17_tpu-8\\\\pipeline.config\"\n",
    "\n",
    "with open(PIPELINE_PATH, 'r') as f:\n",
    "    config = json.load(f)\n",
    "\n",
    "#python generate_tfrecord.py --csv_input=path/to/annotations.csv --image_dir=path/to/images --output_path=path/to/output.tfrecord --label_map=path/to/label_map.pbtxt\n",
    "# pentru generat \n",
    "config['train_input_reader']['label_map_path'] = '.\\training_data\\object-detection-crowdai\\labels.csv'\n",
    "config['train_input_reader']['tf_record_input_reader']['input_path'] = '.\\training_data\\object-detection-crowdai'\n",
    "\n",
    "#de gasit data set\n",
    "config['eval_input_reader']['label_map_path'] =\n",
    "config['eval_input_reader']['tf_record_input_reader']['input_path'] = \n",
    "config['train_config']['fine_tune_checkpoint'] = \n",
    "\n",
    "with open(PIPELINE_PATH, 'w') as f:\n",
    "    json.dump(config, f, indent=4)\n",
    "\n"
   ]
  },
  {
   "cell_type": "code",
   "execution_count": null,
   "id": "0048cacd",
   "metadata": {},
   "outputs": [
    {
     "data": {
      "text/plain": [
       "Ellipsis"
      ]
     },
     "execution_count": 6,
     "metadata": {},
     "output_type": "execute_result"
    }
   ],
   "source": [
    "import tensorflow as tf\n",
    "\n",
    "tf.saved_model.load(\".\\\\models\\\\ssd_mobilenet_v2_fpnlite_320x320_coco17_tpu-8\\\\saved_model\")\n",
    "\n",
    "# model = tf.keras.Sequential([\n",
    "#     tf.keras.layers.Dense(5, input_shape=(3,)),\n",
    "#     tf.keras.layers.Softmax()])\n",
    "# model.save(\"model.keras\")\n",
    "# loaded_model = tf.keras.saving.load_model(\"model.keras\")\n",
    "# x = tf.random.uniform((10, 3))\n",
    "# assert np.allclose(model.predict(x), loaded_model.predict(x))\n",
    "\n",
    "# Process the output to identify objects in the image\n",
    "..."
   ]
  }
 ],
 "metadata": {
  "kernelspec": {
   "display_name": "tenserflow_development",
   "language": "python",
   "name": "python3"
  },
  "language_info": {
   "codemirror_mode": {
    "name": "ipython",
    "version": 3
   },
   "file_extension": ".py",
   "mimetype": "text/x-python",
   "name": "python",
   "nbconvert_exporter": "python",
   "pygments_lexer": "ipython3",
   "version": "3.11.2"
  }
 },
 "nbformat": 4,
 "nbformat_minor": 5
}
